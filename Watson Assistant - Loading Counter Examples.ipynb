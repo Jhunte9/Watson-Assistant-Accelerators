{
 "cells": [
  {
   "cell_type": "markdown",
   "metadata": {
    "collapsed": true
   },
   "source": [
    "# Watson Assistant - Counter Examples Management.\n",
    "#### Omar Megawer"
   ]
  },
  {
   "cell_type": "code",
   "execution_count": null,
   "metadata": {
    "pixiedust": {
     "displayParams": {
      "handlerId": "tableView"
     }
    }
   },
   "outputs": [],
   "source": [
    "import pandas as pd\n",
    "import numpy as np\n",
    "import pixiedust\n",
    "from watson_developer_cloud import ConversationV1"
   ]
  },
  {
   "cell_type": "markdown",
   "metadata": {},
   "source": [
    "#### Connect to WCS Workspace"
   ]
  },
  {
   "cell_type": "code",
   "execution_count": null,
   "metadata": {
    "pixiedust": {
     "displayParams": {
      "handlerId": "tableView"
     }
    }
   },
   "outputs": [],
   "source": [
    "conversation = ConversationV1(\n",
    "  username = '',\n",
    "  password = '',\n",
    "  version = '2018-02-16',\n",
    "  url = 'https://gateway-fra.watsonplatform.net/conversation/api'\n",
    ")\n",
    "response = conversation.list_counterexamples(\n",
    "  workspace_id = ''\n",
    ")"
   ]
  },
  {
   "cell_type": "markdown",
   "metadata": {},
   "source": [
    "#### Pull all current Counter Examples"
   ]
  },
  {
   "cell_type": "code",
   "execution_count": null,
   "metadata": {
    "pixiedust": {
     "displayParams": {
      "handlerId": "tableView"
     }
    }
   },
   "outputs": [],
   "source": [
    "counter = []\n",
    "for text in response['counterexamples']:\n",
    "    row = { \n",
    "            'text': text['text']\n",
    "        }\n",
    "    counter.append(row)\n",
    "    \n",
    "df = pd.DataFrame(counter, columns=['text'])\n",
    "\n",
    "display(df)"
   ]
  },
  {
   "cell_type": "markdown",
   "metadata": {},
   "source": [
    "#### Save Counter Examples to csv"
   ]
  },
  {
   "cell_type": "code",
   "execution_count": null,
   "metadata": {},
   "outputs": [],
   "source": [
    "df.to_csv('PulledCounter.csv', encoding='utf-8', index=False, header=False)"
   ]
  },
  {
   "cell_type": "markdown",
   "metadata": {},
   "source": [
    "---"
   ]
  },
  {
   "cell_type": "markdown",
   "metadata": {},
   "source": [
    "### Pull data from csv and add it to a DataFrame"
   ]
  },
  {
   "cell_type": "code",
   "execution_count": null,
   "metadata": {},
   "outputs": [],
   "source": [
    "counterSet = 'PulledCounter.csv'"
   ]
  },
  {
   "cell_type": "code",
   "execution_count": null,
   "metadata": {},
   "outputs": [],
   "source": [
    "questions = pd.read_csv(counterSet,names=['Question'], header=None, index_col=None)"
   ]
  },
  {
   "cell_type": "code",
   "execution_count": null,
   "metadata": {
    "pixiedust": {
     "displayParams": {
      "handlerId": "tableView"
     }
    }
   },
   "outputs": [],
   "source": [
    "df = pd.read_csv('PulledCounter.csv', header=None)\n",
    "display(df)"
   ]
  },
  {
   "cell_type": "markdown",
   "metadata": {},
   "source": [
    "#### Push Counter Examples to WCS workspace"
   ]
  },
  {
   "cell_type": "code",
   "execution_count": null,
   "metadata": {},
   "outputs": [],
   "source": [
    "for i in range(0, len(df)):\n",
    "        conversation = ConversationV1(\n",
    "          username = '',\n",
    "          password = '',\n",
    "          version = '2018-02-16',\n",
    "          url = 'https://gateway-fra.watsonplatform.net/conversation/api'\n",
    "        )\n",
    "        try:\n",
    "            response = conversation.create_counterexample(\n",
    "                workspace_id = '',\n",
    "                text = questions.iloc[i]['Question']\n",
    "            )\n",
    "        except:\n",
    "            print('Something went wrong')"
   ]
  },
  {
   "cell_type": "markdown",
   "metadata": {},
   "source": [
    "---"
   ]
  },
  {
   "cell_type": "markdown",
   "metadata": {},
   "source": [
    "#### Delete Counter Examples from WCS Workspace"
   ]
  },
  {
   "cell_type": "code",
   "execution_count": null,
   "metadata": {},
   "outputs": [],
   "source": [
    "for i in range(0, len(df)):\n",
    "        conversation = ConversationV1(\n",
    "          username = '',\n",
    "          password = '',\n",
    "          version = '2018-02-16',\n",
    "          url = 'https://gateway-fra.watsonplatform.net/conversation/api'\n",
    "        )\n",
    "        try:\n",
    "            response = conversation.delete_counterexample(\n",
    "                workspace_id = '',\n",
    "                text = questions.iloc[i]['Question']\n",
    "            )\n",
    "            print(\"Successfully Deleted:\", questions.iloc[i]['Question'])\n",
    "        except:\n",
    "            print('Something went wrong', response)"
   ]
  },
  {
   "cell_type": "code",
   "execution_count": null,
   "metadata": {},
   "outputs": [],
   "source": []
  }
 ],
 "metadata": {
  "kernelspec": {
   "display_name": "Python 3",
   "language": "python",
   "name": "python3"
  },
  "language_info": {
   "codemirror_mode": {
    "name": "ipython",
    "version": 3
   },
   "file_extension": ".py",
   "mimetype": "text/x-python",
   "name": "python",
   "nbconvert_exporter": "python",
   "pygments_lexer": "ipython3",
   "version": "3.6.4"
  }
 },
 "nbformat": 4,
 "nbformat_minor": 2
}
