{
 "cells": [
  {
   "cell_type": "markdown",
   "metadata": {},
   "source": [
    "# Watson Assistant - Blind Testing\n",
    "### Omar Megawer \n",
    "#### 25-April-2018"
   ]
  },
  {
   "cell_type": "code",
   "execution_count": 1,
   "metadata": {},
   "outputs": [],
   "source": [
    "import pandas as pd\n",
    "from watson_developer_cloud import AssistantV1\n",
    "import itertools\n",
    "import sys\n",
    "import openpyxl"
   ]
  },
  {
   "cell_type": "markdown",
   "metadata": {},
   "source": [
    "#### Read Blind Set csv file\n",
    "The csv file shouldn't have any headers."
   ]
  },
  {
   "cell_type": "code",
   "execution_count": 2,
   "metadata": {
    "pixiedust": {
     "displayParams": {
      "handlerId": "tableView"
     }
    }
   },
   "outputs": [],
   "source": [
    "blind_set = pd.read_csv('blinds.csv', encoding='utf8', names=['Question','Intent'])"
   ]
  },
  {
   "cell_type": "markdown",
   "metadata": {},
   "source": [
    "#### Watson Assistant Credentials"
   ]
  },
  {
   "cell_type": "code",
   "execution_count": 8,
   "metadata": {},
   "outputs": [],
   "source": [
    "AssistantCred = {\n",
    "    'url':\"https://gateway.watsonplatform.net/conversation/api/\",\n",
    "    'workspace_id':'',\n",
    "    'user':'',\n",
    "    'password':''\n",
    "}"
   ]
  },
  {
   "cell_type": "code",
   "execution_count": 9,
   "metadata": {},
   "outputs": [],
   "source": [
    "assistant = AssistantV1(version='2018-02-16', url=AssistantCred.get('url'), username=AssistantCred.get('user'), password=AssistantCred.get('password'))"
   ]
  },
  {
   "cell_type": "markdown",
   "metadata": {},
   "source": [
    "---"
   ]
  },
  {
   "cell_type": "markdown",
   "metadata": {},
   "source": [
    "#### Progress Bar Function"
   ]
  },
  {
   "cell_type": "code",
   "execution_count": 10,
   "metadata": {},
   "outputs": [],
   "source": [
    "def progress(count, total, suffix=''):\n",
    "    bar_len = 60\n",
    "    filled_len = int(round(bar_len * count / float(total)))\n",
    "\n",
    "    percents = round(100.0 * count / float(total), 1)\n",
    "    bar = '=' * filled_len + '-' * (bar_len - filled_len)\n",
    "\n",
    "    sys.stdout.write('[%s] %s%s .%s\\r' % (bar, percents, '%', suffix))\n",
    "    sys.stdout.flush()  "
   ]
  },
  {
   "cell_type": "markdown",
   "metadata": {},
   "source": [
    "---"
   ]
  },
  {
   "cell_type": "markdown",
   "metadata": {},
   "source": [
    "#### Preparing Results Dataframe \n",
    "This is currently set to record till R@5"
   ]
  },
  {
   "cell_type": "code",
   "execution_count": 11,
   "metadata": {},
   "outputs": [],
   "source": [
    "full_results = pd.DataFrame(columns=[\n",
    "            'Question','Expected Intent']+\n",
    "                            list(itertools.chain(*[['Intent{}'.format(i),\n",
    "                                                    'Confidence{}'.format(i),\n",
    "                                                    'R@{}'.format(i)]\n",
    "                                      for i in range(1, 5+1)])))"
   ]
  },
  {
   "cell_type": "markdown",
   "metadata": {},
   "source": [
    "#### Sending Questions to Watson Assistant"
   ]
  },
  {
   "cell_type": "code",
   "execution_count": 12,
   "metadata": {},
   "outputs": [
    {
     "name": "stdout",
     "output_type": "stream",
     "text": [
      "Blind Set has 5 questions\n",
      "[============================================================] 100.0% .Test is Done\r"
     ]
    }
   ],
   "source": [
    "count = 0\n",
    "numberOfQuestions = len(blind_set.index)\n",
    "print(\"Blind Set has\", numberOfQuestions , \"questions\")\n",
    "\n",
    "for index, row in blind_set.iterrows():\n",
    "            \n",
    "            question = row['Question']\n",
    "            expected_intent = row['Intent']\n",
    "            \n",
    "            message = { 'text': question }\n",
    "            \n",
    "            progress(count,numberOfQuestions, '' )\n",
    "            \n",
    "            response = assistant.message(workspace_id=AssistantCred.get('workspace_id'), input=message, alternate_intents=True)\n",
    "            \n",
    "            rec = { 'Question': question, 'Expected Intent': expected_intent }\n",
    "            \n",
    "            intents = response['intents']\n",
    "            \n",
    "            for i in range(0,len(intents)):\n",
    "                rec.update({\n",
    "                    'Intent{}'.format(i+1): intents[i]['intent'],\n",
    "                    'Confidence{}'.format(i+1): intents[i]['confidence'],\n",
    "                    'R@{}'.format(i+1): 0\n",
    "                    })\n",
    "\n",
    "            for i in range(len(intents) -1, -1, -1):\n",
    "                if rec['Expected Intent'] == rec['Intent{}'.format(i+1)]:\n",
    "                    rec['R@{}'.format(i+1)] = 1\n",
    "                    \n",
    "            full_results = full_results.append(rec,ignore_index=True)\n",
    "            count = count + 1\n",
    "progress(numberOfQuestions,numberOfQuestions, 'Test is Done' )\n"
   ]
  },
  {
   "cell_type": "markdown",
   "metadata": {},
   "source": [
    "---"
   ]
  },
  {
   "cell_type": "markdown",
   "metadata": {},
   "source": [
    "#### Prepare Detailed Result Data Frame"
   ]
  },
  {
   "cell_type": "code",
   "execution_count": 13,
   "metadata": {},
   "outputs": [],
   "source": [
    "full_results = full_results.fillna(0)\n",
    "\n",
    "results = pd.DataFrame(columns=['Question', 'Expected Intent', 'Recall@', 'Found', 'Confidence'])\n",
    "        \n",
    "for index, row in full_results.iterrows():  \n",
    "    \n",
    "    record = {'Question': row['Question'], 'Expected Intent': row['Expected Intent'] }\n",
    "    \n",
    "    for i in range(0,5): \n",
    "        record.update({\n",
    "            'Recall@': i+1,\n",
    "            'Confidence': row['Confidence{}'.format(i+1)],\n",
    "            'Found': row['R@{}'.format(i+1)] == 1\n",
    "        })\n",
    "        results = results.append(record,ignore_index=True)"
   ]
  },
  {
   "cell_type": "markdown",
   "metadata": {},
   "source": [
    "---"
   ]
  },
  {
   "cell_type": "markdown",
   "metadata": {},
   "source": [
    "#### Calculations\n",
    "\n",
    "This will calculate the Recall@1 for more details check the Excel Report."
   ]
  },
  {
   "cell_type": "code",
   "execution_count": 14,
   "metadata": {
    "pixiedust": {
     "displayParams": {
      "filter": "{\"field\": \"Recall@\", \"constraint\": \"None\", \"value\": \"1\", \"case_matter\": \"true\", \"regex\": \"false\"}",
      "handlerId": "tableView",
      "no_margin": "true",
      "tableFields": "Confidence,Expected Intent,Found,Question,Recall@"
     }
    }
   },
   "outputs": [
    {
     "name": "stdout",
     "output_type": "stream",
     "text": [
      "The accuracy for the set is:  0.0\n"
     ]
    }
   ],
   "source": [
    "precisionDF = results.query('Found == True') \n",
    "precisionDF\n",
    "precision = (len(precisionDF.index) / numberOfQuestions) * 100\n",
    "accuracyDF = precisionDF[precisionDF['Recall@'] == 1]\n",
    "accuracy = (len(accuracyDF.index) / numberOfQuestions) * 100\n",
    "print(\"The accuracy for the set is: \",accuracy)"
   ]
  },
  {
   "cell_type": "markdown",
   "metadata": {},
   "source": [
    "#### Output Results Report to Excel"
   ]
  },
  {
   "cell_type": "code",
   "execution_count": 15,
   "metadata": {},
   "outputs": [],
   "source": [
    "writer = pd.ExcelWriter('Report.xlsx')\n",
    "results.to_excel(writer, \"Blind Test\", encoding='UTF8')\n",
    "writer.save()"
   ]
  },
  {
   "cell_type": "code",
   "execution_count": null,
   "metadata": {},
   "outputs": [],
   "source": []
  }
 ],
 "metadata": {
  "kernelspec": {
   "display_name": "Python 3",
   "language": "python",
   "name": "python3"
  },
  "language_info": {
   "codemirror_mode": {
    "name": "ipython",
    "version": 3
   },
   "file_extension": ".py",
   "mimetype": "text/x-python",
   "name": "python",
   "nbconvert_exporter": "python",
   "pygments_lexer": "ipython3",
   "version": "3.6.4"
  }
 },
 "nbformat": 4,
 "nbformat_minor": 2
}
