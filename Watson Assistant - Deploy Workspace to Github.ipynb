{
 "cells": [
  {
   "cell_type": "markdown",
   "metadata": {},
   "source": [
    "# Watson Assistant - Deploy Workspace to Github\n",
    "### Omar Megawer \n",
    "#### 1-May-2018"
   ]
  },
  {
   "cell_type": "code",
   "execution_count": null,
   "metadata": {},
   "outputs": [],
   "source": [
    "import pandas as pd\n",
    "import numpy as np\n",
    "from watson_developer_cloud import AssistantV1\n",
    "import sys\n",
    "import json\n",
    "from datetime import datetime"
   ]
  },
  {
   "cell_type": "markdown",
   "metadata": {},
   "source": [
    "#### Download a fresh copy of the WA workspace\n",
    "Add the credentials for your workspace here."
   ]
  },
  {
   "cell_type": "code",
   "execution_count": null,
   "metadata": {},
   "outputs": [],
   "source": [
    "ctx = {\n",
    "  \"url\": \"https://gateway-fra.watsonplatform.net/conversation/api\",\n",
    "  \"username\": \"\",\n",
    "  \"password\": \"\"\n",
    "}\n",
    "\n",
    "workspace_id = \"\"\n",
    "initials = 'OM'#This is used to track who took the backup of the workspace"
   ]
  },
  {
   "cell_type": "code",
   "execution_count": null,
   "metadata": {},
   "outputs": [],
   "source": [
    "assistant = AssistantV1( username=ctx.get('username'), password=ctx.get('password'), version='2018-02-16', url= ctx.get('url'))"
   ]
  },
  {
   "cell_type": "code",
   "execution_count": null,
   "metadata": {
    "scrolled": true
   },
   "outputs": [],
   "source": [
    "response = assistant.get_workspace(workspace_id=workspace_id, export=True)"
   ]
  },
  {
   "cell_type": "code",
   "execution_count": null,
   "metadata": {},
   "outputs": [],
   "source": [
    "def writeToJSONFile(path, fileName, data):\n",
    "    filePathNameWExt = './' + path + '/' + fileName + '.json'\n",
    "    with open(filePathNameWExt, 'w') as fp:\n",
    "        json.dump(data, fp, ensure_ascii=False)\n",
    "\n",
    "\n",
    "filename = response['name'] + datetime.now().strftime('_%Y%m%d_%H%M_') +'_'+initials #You can change the name of the file as per your requirements\n",
    "\n",
    "writeToJSONFile('./',filename,response)"
   ]
  },
  {
   "cell_type": "markdown",
   "metadata": {},
   "source": [
    "#### Connect to your Github Repo"
   ]
  },
  {
   "cell_type": "code",
   "execution_count": null,
   "metadata": {},
   "outputs": [],
   "source": [
    "import gitlab\n",
    "import json\n",
    "\n",
    "GITHUB_BASE = 'https://git.ng.bluemix.net'\n",
    "GITHUB_USERID = \"\"\n",
    "GITHUB_TOKEN = \"\"\n",
    "GITHUB_REPO = \"\"\n",
    "GITHUB_PROJECT = GITHUB_USERID + \"/\" + GITHUB_REPO\n",
    "\n",
    "gh = gitlab.Gitlab(GITHUB_BASE, GITHUB_TOKEN)\n",
    "\n",
    "project = gh.projects.get(GITHUB_PROJECT)\n",
    "\n",
    "issues = project.issues.list(all=True)"
   ]
  },
  {
   "cell_type": "markdown",
   "metadata": {},
   "source": [
    "##### This is to attach a file to an issue\n",
    "Specify the issue number where you would like to back up your workspace."
   ]
  },
  {
   "cell_type": "code",
   "execution_count": null,
   "metadata": {},
   "outputs": [],
   "source": [
    "uploaded_file = project.upload(filename+'.json', filepath='./'+filename+'.json')\n",
    "\n",
    "issue = project.issues.get(201) #This is the issue number\n",
    "issue.notes.create({\n",
    "    \"body\": \"See the attached file: {}\".format(uploaded_file[\"markdown\"])\n",
    "})"
   ]
  }
 ],
 "metadata": {
  "kernelspec": {
   "display_name": "Python 3",
   "language": "python",
   "name": "python3"
  },
  "language_info": {
   "codemirror_mode": {
    "name": "ipython",
    "version": 3
   },
   "file_extension": ".py",
   "mimetype": "text/x-python",
   "name": "python",
   "nbconvert_exporter": "python",
   "pygments_lexer": "ipython3",
   "version": "3.6.4"
  }
 },
 "nbformat": 4,
 "nbformat_minor": 2
}
